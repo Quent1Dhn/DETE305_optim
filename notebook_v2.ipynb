{
 "cells": [
  {
   "cell_type": "markdown",
   "id": "e4f8241a",
   "metadata": {},
   "source": [
    "# Sujet 2: Modélisation des interdépendances\n",
    "\n",
    "**Quel est l’impact d’une baisse de la capacité de LNG sur le système en général et en particulier sur\n",
    "le système électrique ?**\n",
    "\n",
    "Pour aller plus loin : modéliser le stockage gaz\n",
    "\n",
    "**Authors**: Lucas DEFRANCE, Quentin DEHAENE, Jules PAINDESSOUS--POETE"
   ]
  },
  {
   "cell_type": "markdown",
   "id": "50ca0aaf",
   "metadata": {},
   "source": [
    "## Imports"
   ]
  },
  {
   "cell_type": "code",
   "execution_count": null,
   "id": "21776d3e",
   "metadata": {},
   "outputs": [],
   "source": [
    "# Necessary imports\n",
    "using JuMP\n",
    "using XLSX\n",
    "using DataFrames\n",
    "#use the solver you want\n",
    "using HiGHS"
   ]
  }
 ],
 "metadata": {
  "kernelspec": {
   "display_name": "Julia 1.9.3",
   "language": "julia",
   "name": "julia-1.9"
  },
  "language_info": {
   "file_extension": ".jl",
   "mimetype": "application/julia",
   "name": "julia",
   "version": "1.9.3"
  }
 },
 "nbformat": 4,
 "nbformat_minor": 5
}
