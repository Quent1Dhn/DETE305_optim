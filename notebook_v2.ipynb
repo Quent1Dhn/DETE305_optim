{
 "cells": [
  {
   "cell_type": "markdown",
   "id": "b4681b08",
   "metadata": {},
   "source": [
    "# Sujet 2: Modélisation des interdépendances\n",
    "\n",
    "**Quel est l’impact d’une baisse de la capacité de LNG sur le système en général et en particulier sur\n",
    "le système électrique ?**\n",
    "\n",
    "Pour aller plus loin : modéliser le stockage gaz\n",
    "\n",
    "**Authors**: Lucas DEFRANCE, Quentin DEHAENE, Jules PAINDESSOUS--POETE"
   ]
  },
  {
   "cell_type": "markdown",
   "id": "66119414",
   "metadata": {},
   "source": [
    "## Imports"
   ]
  },
  {
   "cell_type": "code",
   "execution_count": 1,
   "id": "5901785d",
   "metadata": {},
   "outputs": [],
   "source": [
    "# Necessary imports\n",
    "using JuMP\n",
    "using XLSX\n",
    "using DataFrames\n",
    "#use the solver you want\n",
    "using HiGHS"
   ]
  },
  {
   "cell_type": "code",
   "execution_count": 2,
   "id": "5ebe69c6",
   "metadata": {},
   "outputs": [],
   "source": [
    "# Define global variables\n",
    "data_file_zootopia = \"data/TP_empilement.xlsx\";"
   ]
  },
  {
   "cell_type": "code",
   "execution_count": 3,
   "id": "a6d5afb9",
   "metadata": {},
   "outputs": [],
   "source": [
    "# We choose"
   ]
  },
  {
   "cell_type": "code",
   "execution_count": 9,
   "id": "8a7a23d2",
   "metadata": {},
   "outputs": [
    {
     "name": "stdout",
     "output_type": "stream",
     "text": [
      "168168168168"
     ]
    },
    {
     "ename": "LoadError",
     "evalue": "InterruptException:",
     "output_type": "error",
     "traceback": [
      "InterruptException:",
      "",
      "Stacktrace:",
      " [1] gc (repeats 2 times)",
      "   @ ./gcutils.jl:98 [inlined]",
      " [2] openxlsx(f::XLSX.var\"#24#25\"{String, String}, source::String; mode::String, enable_cache::Bool)",
      "   @ XLSX ~/anaconda3/envs/julia-env/share/julia/packages/XLSX/U2Bcm/src/read.jl:151",
      " [3] openxlsx",
      "   @ ~/anaconda3/envs/julia-env/share/julia/packages/XLSX/U2Bcm/src/read.jl:128 [inlined]",
      " [4] readdata(source::String, sheet::String, ref::String)",
      "   @ XLSX ~/anaconda3/envs/julia-env/share/julia/packages/XLSX/U2Bcm/src/read.jl:523",
      " [5] top-level scope",
      "   @ ./In[9]:9"
     ]
    }
   ],
   "source": [
    "nb_week_year = 52\n",
    "for w in 0:nb_week_year\n",
    "    # We start the simulation at Tmin and end it at Tmax\n",
    "    Tmin = w*24*7\n",
    "    Tmax = Tmin + 24*7-1; #optimization by one week intervals\n",
    "    Tp = 24*7;\n",
    "    \n",
    "    #data for load and fatal generation\n",
    "    load = XLSX.readdata(data_file_zootopia, \"TP\", \"C$(10+Tmin):C$(Tmax + 10)\");\n",
    "    wind = XLSX.readdata(data_file_zootopia, \"TP\", \"D$(10+Tmin):D$(Tmax + 10)\");\n",
    "    solar = XLSX.readdata(data_file_zootopia, \"TP\", \"E$(10+Tmin):E$(Tmax + 10)\");\n",
    "    hydro_fatal = XLSX.readdata(data_file_zootopia, \"TP\", \"F$(10+Tmin):F$(Tmax + 10)\");\n",
    "    thermal_fatal = XLSX.readdata(data_file_zootopia, \"TP\", \"G$(10+Tmin):G$(Tmax + 10)\");\n",
    "    #total of RES\n",
    "    Pres = wind + solar + hydro_fatal + thermal_fatal;\n",
    "\n",
    "\n",
    "    #############################\n",
    "    #create the optimization model\n",
    "    #############################\n",
    "    model = Model(HiGHS.Optimizer)\n",
    "\n",
    "    #############################\n",
    "    #define the variables\n",
    "    #############################\n",
    "    #thermal generation variables\n",
    "    \n",
    "    @variable(model, Pth[1:Tp,1:Nth] >= 0)\n",
    "    @variable(model, UCth[1:Tp,1:Nth], Bin)\n",
    "    @variable(model, UPth[1:Tp,1:Nth], Bin)\n",
    "    @variable(model, DOth[1:Tp,1:Nth], Bin)\n",
    "    #hydro generation variables\n",
    "    @variable(model, Phy[1:Tp,1:Nhy] >= 0)\n",
    "    #unsupplied energy variables\n",
    "    @variable(model, Puns[1:Tp] >= 0)\n",
    "    #in excess energy variables\n",
    "    @variable(model, Pexc[1:Tp] >= 0)\n",
    "    #weekly STEP variables\n",
    "    @variable(model, Pcharge_STEP[1:Tp] >= 0)\n",
    "    @variable(model, Pdecharge_STEP[1:Tp] >= 0)\n",
    "    @variable(model, stock_STEP[1:Tp] >= 0)\n",
    "\n",
    "    #############################\n",
    "    #define the objective function\n",
    "    #############################\n",
    "    @objective(model, Min, sum(Pth.*cth)+sum(Phy.*chy)+Puns'cuns+Pexc'cexc)\n",
    "\n",
    "\n",
    "    #############################\n",
    "    #define the constraints\n",
    "    #############################\n",
    "    #balance constraint\n",
    "    @constraint(model, balance[t in 1:Tp], sum(Pth[t,g] for g in 1:Nth) + sum(Phy[t,h] for h in 1:Nhy) + Pres[t] + Puns[t] - load[t] - Pexc[t] - Pcharge_STEP[t] + Pdecharge_STEP[t]== 0)\n",
    "    #thermal unit Pmax constraints\n",
    "    @constraint(model, max_th[t in 1:Tp, g in 1:Nth], Pth[t,g] <= Pmax_th[g]*UCth[t,g])\n",
    "    #thermal unit Pmin constraints\n",
    "    @constraint(model, min_th[t in 1:Tp, g in 1:Nth], Pmin_th[g]*UCth[t,g] <= Pth[t,g])\n",
    "\n",
    "\n",
    "    #thermal unit Dmin constraints\n",
    "    for g in 1:Nth\n",
    "        if (dmin_th[g] > 1)\n",
    "            @constraint(model, [t in 2:Tp], UCth[t,g]-UCth[t-1,g]==UPth[t,g]-DOth[t,g],  base_name = \"fct_th_$g\")\n",
    "            @constraint(model, [t in 1:Tp], UPth[t]+DOth[t]<=1,  base_name = \"UPDOth_$g\")\n",
    "            if (w==0)\n",
    "                @constraint(model, UPth[1,g]==0,  base_name = \"iniUPth_$g\")\n",
    "                @constraint(model, DOth[1,g]==0,  base_name = \"iniDOth_$g\")\n",
    "            else\n",
    "                @constraint(model, UCth[1,g]-UC_continu=UPth[1,g]-DOth[1,g],  base_name = \"fct_th_0$g\")\n",
    "            end\n",
    "                \n",
    "\n",
    "\n",
    "            @constraint(model, [t in dmin_th[g]:Tmax], UCth[t,g] >= sum(UPth[i,g] for i in (t-dmin_th[g]+1):t),  base_name = \"dminUPth_$g\")\n",
    "            @constraint(model, [t in dmin_th[g]:Tmax], UCth[t,g] <= 1 - sum(DOth[i,g] for i in (t-dmin_th[g]+1):t),  base_name = \"dminDOth_$g\")\n",
    "            @constraint(model, [t in 1:dmin_th[g]-1], UCth[t,g] >= sum(UPth[i,g] for i in 1:t), base_name = \"dminUPth_$(g)_init\")\n",
    "            @constraint(model, [t in 1:dmin_th[g]-1], UCth[t,g] <= 1-sum(DOth[i,g] for i in 1:t), base_name = \"dminDOth_$(g)_init\")\n",
    "        end\n",
    "    end \n",
    "\n",
    "    \n",
    "    #hydro unit constraints\n",
    "    @constraint(model, unit_bounds_hy[t in 1:Tp, h in 1:Nhy], Pmin_hy[h] <= Phy[t,h] <= Pmax_hy[h])\n",
    "    #hydro stock constraint\n",
    "    @constraint(model, stock_bounds_hy[h in 1:Nhy], sum(Phy[t,h] for t in 1:Tp) <= weekly_mean_e_hy[h] )\n",
    "\n",
    "    #weekly STEP\n",
    "    @constraint(model, max_Pcharge_STEP[t in 1:Tp],Pcharge_STEP[t] <= Pmax_STEP)\n",
    "    @constraint(model, max_Pdecharge_STEP[t in 1:Tp],Pdecharge_STEP[t] <= Pmax_STEP)\n",
    "\n",
    "    @constraint(model, stock_STEP_max[t in 1:Tp], stock_STEP[t] <= max_stock_STEP)\n",
    "    @constraint(model, stock_STEP_evo[t in 2:Tp],stock_STEP[t] == stock_STEP[t-1] + Pcharge_STEP[t]*rSTEP - Pdecharge_STEP[t])\n",
    "    if (w==0)\n",
    "        @constraint(model,stock_STEP[1] == 0.5*max_stock_STEP)\n",
    "    else\n",
    "        @constraint(model,stock_STEP[1] == stock_STEP_continu + Pcharge_STEP[1]*rSTEP - Pdecharge_STEP[1])\n",
    "    end\n",
    "\n",
    "\n",
    "\n",
    "\n",
    "    #no need to print the model when it is too big\n",
    "    #solve the model\n",
    "    optimize!(model)\n",
    "\n",
    "\n",
    "    UC_continu=UCth[Tp,1:Nth];\n",
    "    stock_STEP_continu=stock_STEP[Tp];\n",
    "    UP_continu=UPth[Tp-24:Tp,1:Nth];\n",
    "    DO_continu=DOth[Tp-24:Tp,1:Nth];\n",
    "\n",
    "\n",
    "end"
   ]
  },
  {
   "cell_type": "code",
   "execution_count": null,
   "id": "a8f129b6",
   "metadata": {},
   "outputs": [],
   "source": []
  },
  {
   "cell_type": "code",
   "execution_count": null,
   "id": "308594b2",
   "metadata": {},
   "outputs": [],
   "source": []
  }
 ],
 "metadata": {
  "kernelspec": {
   "display_name": "Julia 1.9.3",
   "language": "julia",
   "name": "julia-1.9"
  },
  "language_info": {
   "file_extension": ".jl",
   "mimetype": "application/julia",
   "name": "julia",
   "version": "1.9.3"
  }
 },
 "nbformat": 4,
 "nbformat_minor": 5
}
