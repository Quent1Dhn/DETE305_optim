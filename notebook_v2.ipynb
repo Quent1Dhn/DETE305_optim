{
 "cells": [
  {
   "cell_type": "markdown",
   "id": "b4681b08",
   "metadata": {},
   "source": [
    "# Sujet 2: Modélisation des interdépendances\n",
    "\n",
    "**Quel est l’impact d’une baisse de la capacité de LNG sur le système en général et en particulier sur\n",
    "le système électrique ?**\n",
    "\n",
    "Pour aller plus loin : modéliser le stockage gaz\n",
    "\n",
    "**Authors**: Lucas DEFRANCE, Quentin DEHAENE, Jules PAINDESSOUS--POETE"
   ]
  },
  {
   "cell_type": "markdown",
   "id": "66119414",
   "metadata": {},
   "source": [
    "## Imports"
   ]
  },
  {
   "cell_type": "code",
   "execution_count": 1,
   "id": "5901785d",
   "metadata": {},
   "outputs": [],
   "source": [
    "# Necessary imports\n",
    "using JuMP\n",
    "using XLSX\n",
    "using DataFrames\n",
    "#use the solver you want\n",
    "using HiGHS"
   ]
  },
  {
   "cell_type": "code",
   "execution_count": 2,
   "id": "5ebe69c6",
   "metadata": {},
   "outputs": [],
   "source": [
    "# Define global variables\n",
    "data_file_zootopia = \"data/TP_empilement.xlsx\";"
   ]
  },
  {
   "cell_type": "code",
   "execution_count": 3,
   "id": "a6d5afb9",
   "metadata": {},
   "outputs": [],
   "source": [
    "# We choose"
   ]
  },
  {
   "cell_type": "code",
   "execution_count": 9,
   "id": "8a7a23d2",
   "metadata": {},
   "outputs": [
    {
     "name": "stdout",
     "output_type": "stream",
     "text": [
      "168168168168"
     ]
    },
    {
     "ename": "LoadError",
     "evalue": "InterruptException:",
     "output_type": "error",
     "traceback": [
      "InterruptException:",
      "",
      "Stacktrace:",
      " [1] gc (repeats 2 times)",
      "   @ ./gcutils.jl:98 [inlined]",
      " [2] openxlsx(f::XLSX.var\"#24#25\"{String, String}, source::String; mode::String, enable_cache::Bool)",
      "   @ XLSX ~/anaconda3/envs/julia-env/share/julia/packages/XLSX/U2Bcm/src/read.jl:151",
      " [3] openxlsx",
      "   @ ~/anaconda3/envs/julia-env/share/julia/packages/XLSX/U2Bcm/src/read.jl:128 [inlined]",
      " [4] readdata(source::String, sheet::String, ref::String)",
      "   @ XLSX ~/anaconda3/envs/julia-env/share/julia/packages/XLSX/U2Bcm/src/read.jl:523",
      " [5] top-level scope",
      "   @ ./In[9]:9"
     ]
    }
   ],
   "source": [
    "nb_week_year = 52\n",
    "for w in 0:nb_week_year\n",
    "    # We start the simulation at Tmin and end it at Tmax\n",
    "    Tmin = w*24*7\n",
    "    Tmax = Tmin + 24*7-1; #optimization by one week intervals\n",
    "    \n",
    "    #data for load and fatal generation\n",
    "    load = XLSX.readdata(data_file_zootopia, \"TP\", \"C$(10+Tmin):C$(Tmax + 10)\");\n",
    "    wind = XLSX.readdata(data_file_zootopia, \"TP\", \"D$(10+Tmin):D$(Tmax + 10)\");\n",
    "    solar = XLSX.readdata(data_file_zootopia, \"TP\", \"E$(10+Tmin):E$(Tmax + 10)\");\n",
    "    hydro_fatal = XLSX.readdata(data_file_zootopia, \"TP\", \"F$(10+Tmin):F$(Tmax + 10)\");\n",
    "    thermal_fatal = XLSX.readdata(data_file_zootopia, \"TP\", \"G$(10+Tmin):G$(Tmax + 10)\");\n",
    "\n",
    "    #total of RES\n",
    "    Pres = wind + solar + hydro_fatal + thermal_fatal;\n",
    "end"
   ]
  },
  {
   "cell_type": "code",
   "execution_count": null,
   "id": "a8f129b6",
   "metadata": {},
   "outputs": [],
   "source": []
  },
  {
   "cell_type": "code",
   "execution_count": null,
   "id": "308594b2",
   "metadata": {},
   "outputs": [],
   "source": []
  }
 ],
 "metadata": {
  "kernelspec": {
   "display_name": "Julia 1.9.3",
   "language": "julia",
   "name": "julia-1.9"
  },
  "language_info": {
   "file_extension": ".jl",
   "mimetype": "application/julia",
   "name": "julia",
   "version": "1.9.3"
  }
 },
 "nbformat": 4,
 "nbformat_minor": 5
}
