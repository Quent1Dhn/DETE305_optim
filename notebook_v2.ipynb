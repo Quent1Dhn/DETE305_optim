{
 "cells": [
  {
   "cell_type": "markdown",
   "id": "edb795ce",
   "metadata": {},
   "source": [
    "# Sujet 2: Modélisation des interdépendances\n",
    "\n",
    "**Quel est l’impact d’une baisse de la capacité de LNG sur le système en général et en particulier sur\n",
    "le système électrique ?**\n",
    "\n",
    "Pour aller plus loin : modéliser le stockage gaz\n",
    "\n",
    "**Authors**: Lucas DEFRANCE, Quentin DEHAENE, Jules PAINDESSOUS--POETE"
   ]
  },
  {
   "cell_type": "markdown",
   "id": "0edaa2f6",
   "metadata": {},
   "source": [
    "## Imports"
   ]
  },
  {
   "cell_type": "code",
   "execution_count": null,
   "id": "fd16444b",
   "metadata": {},
   "outputs": [],
   "source": [
    "# Necessary imports\n",
    "using JuMP\n",
    "using XLSX\n",
    "using DataFrames\n",
    "#use the solver you want\n",
    "using HiGHS"
   ]
  },
  {
   "cell_type": "code",
   "execution_count": null,
   "id": "8e9a91ac",
   "metadata": {},
   "outputs": [],
   "source": [
    "nb_week_year = 52\n",
    "for w in 1:week_year\n",
    "    \n",
    "end"
   ]
  },
  {
   "cell_type": "code",
   "execution_count": null,
   "id": "e354ee66",
   "metadata": {},
   "outputs": [],
   "source": []
  },
  {
   "cell_type": "code",
   "execution_count": null,
   "id": "667332f2",
   "metadata": {},
   "outputs": [],
   "source": []
  }
 ],
 "metadata": {
  "kernelspec": {
   "display_name": "Julia 1.9.3",
   "language": "julia",
   "name": "julia-1.9"
  },
  "language_info": {
   "file_extension": ".jl",
   "mimetype": "application/julia",
   "name": "julia",
   "version": "1.9.3"
  }
 },
 "nbformat": 4,
 "nbformat_minor": 5
}
