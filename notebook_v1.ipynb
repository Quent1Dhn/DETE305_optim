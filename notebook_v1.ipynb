{
 "cells": [
  {
   "cell_type": "markdown",
   "id": "a83838fe",
   "metadata": {},
   "source": [
    "\n",
    "# Sujet 2: Modélisation des interdépendances\n",
    "\n",
    "**Quel est l’impact d’une baisse de la capacité de LNG sur le système en général et en particulier sur\n",
    "le système électrique ?**\n",
    "\n",
    "Pour aller plus loin : modéliser le stockage gaz\n",
    "\n",
    "**Authors**: Lucas DEFRANCE, Quentin DEHAENE, Jules PAINDESSOUS--POETE"
   ]
  },
  {
   "cell_type": "code",
   "execution_count": null,
   "id": "dd5d2748",
   "metadata": {},
   "outputs": [],
   "source": []
  }
 ],
 "metadata": {
  "kernelspec": {
   "display_name": "Julia 1.9.3",
   "language": "julia",
   "name": "julia-1.9"
  },
  "language_info": {
   "file_extension": ".jl",
   "mimetype": "application/julia",
   "name": "julia",
   "version": "1.9.3"
  }
 },
 "nbformat": 4,
 "nbformat_minor": 5
}
